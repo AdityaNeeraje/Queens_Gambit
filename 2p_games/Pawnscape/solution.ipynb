{
 "cells": [
  {
   "cell_type": "code",
   "execution_count": 1,
   "metadata": {},
   "outputs": [],
   "source": [
    "# mdp = {\n",
    "#    state: next_state: [reward]\n",
    "# }"
   ]
  },
  {
   "cell_type": "code",
   "execution_count": 7,
   "metadata": {},
   "outputs": [],
   "source": [
    "from random import random\n",
    "import numpy as np"
   ]
  },
  {
   "cell_type": "code",
   "execution_count": 154,
   "metadata": {},
   "outputs": [],
   "source": [
    "mdp1={}\n",
    "mdp2={}"
   ]
  },
  {
   "cell_type": "code",
   "execution_count": 3,
   "metadata": {},
   "outputs": [],
   "source": [
    "string='BBBB........WWWW'"
   ]
  },
  {
   "cell_type": "code",
   "execution_count": 176,
   "metadata": {},
   "outputs": [],
   "source": [
    "n=4\n",
    "def find_possible_positions(state, player, n=4):\n",
    "    # global n\n",
    "    result=[]\n",
    "    if player==1:\n",
    "        char1=\"W\"\n",
    "        char2=\"B\"\n",
    "        sign=-1\n",
    "    else:\n",
    "        char1=\"B\"\n",
    "        char2=\"W\"\n",
    "        sign=1\n",
    "    for i in range(n*n):\n",
    "        if state[i]==char1:\n",
    "            if i+sign*n < 0:\n",
    "                continue\n",
    "            if i+sign*n >= 0 and state[i+sign*n]==\".\":\n",
    "                s=state\n",
    "                s=s[:i]+\".\"+s[i+1:]\n",
    "                s=s[:i+sign*n]+char1+s[i+sign*n+1:]\n",
    "                result.append(s)\n",
    "            if (i+sign*(n-1))//n == (i+sign*n)//n and state[i+sign*(n-1)]==char2:\n",
    "                s=state\n",
    "                s=s[:i]+\".\"+s[i+1:]\n",
    "                s=s[:i+sign*(n-1)]+char1+s[i+sign*(n-1)+1:]\n",
    "                result.append(s)\n",
    "            if (i+sign*(n+1))//n == (i+sign*n)//n and state[i+sign*(n+1)]==char2:\n",
    "                s=state\n",
    "                s=s[:i]+\".\"+s[i+1:]\n",
    "                s=s[:i+sign*(n+1)]+char1+s[i+sign*(n+1)+1:]\n",
    "                result.append(s)\n",
    "    return result"
   ]
  },
  {
   "cell_type": "code",
   "execution_count": 150,
   "metadata": {},
   "outputs": [],
   "source": [
    "rewards=[]\n",
    "def game(epsilon=0.25, gamma=0.9):\n",
    "    global mdp1, mdp2\n",
    "    current_state=\"B\"*n+\".\"*((n)*(n-2))+\"W\"*n\n",
    "    states=[current_state]\n",
    "    over=False\n",
    "    reward=0\n",
    "    while not over:\n",
    "        if mdp1.get(current_state) is None:\n",
    "            result=find_possible_positions(current_state, 1)\n",
    "            if len(result)==0:\n",
    "                mdp1[current_state]={}\n",
    "                reward=0\n",
    "                break\n",
    "            mdp1[current_state]={possible_state: (0,1) for possible_state in result}\n",
    "        if len(mdp1[current_state]) == 0:\n",
    "            break\n",
    "        if random() < epsilon:\n",
    "            current_state=np.random.choice(list(mdp1[current_state].keys()))\n",
    "        else:\n",
    "            current_state=list(mdp1[current_state].keys())[np.argmax([v[0] for v in mdp1[current_state].values()])]\n",
    "        states.append(current_state)\n",
    "        for i in range(n):\n",
    "            if current_state[i]==\"W\":\n",
    "                reward=100\n",
    "                break\n",
    "        if reward!=0:\n",
    "            break\n",
    "        if mdp2.get(current_state) is None:\n",
    "            result=find_possible_positions(current_state, 2)\n",
    "            if len(result)==0:\n",
    "                mdp2[current_state]={}\n",
    "                reward=0\n",
    "                break\n",
    "            mdp2[current_state]={possible_state: (0,1) for possible_state in result}\n",
    "        if len(mdp2[current_state]) == 0:\n",
    "            break\n",
    "        if random() < epsilon:\n",
    "            current_state=np.random.choice(list(mdp2[current_state].keys()))\n",
    "        else:\n",
    "            current_state=list(mdp2[current_state].keys())[np.argmax([v[0] for v in mdp2[current_state].values()])]\n",
    "        states.append(current_state)\n",
    "        for i in range(n*n-n, n*n):\n",
    "            if current_state[i]==\"B\":\n",
    "                reward=-100\n",
    "                break\n",
    "        if reward!=0:\n",
    "            break\n",
    "    rewards.append(reward)\n",
    "    length=len(states)\n",
    "    for i in range(length-1):\n",
    "        if length%2==i%2:\n",
    "            mdp1[states[length-2-i]][states[length-1-i]]=((mdp1[states[length-2-i]][states[length-i-1]][0]*mdp1[states[length-2-i]][states[length-1-i]][1]+reward)/(mdp1[states[length-2-i]][states[length-i-1]][1]+1), mdp1[states[length-2-i]][states[length-1-i]][1]+1)\n",
    "        else:\n",
    "            mdp2[states[length-2-i]][states[length-1-i]]=((mdp2[states[length-2-i]][states[length-i-1]][0]*mdp2[states[length-2-i]][states[length-1-i]][1]-reward)/(mdp2[states[length-2-i]][states[length-i-1]][1]+1), mdp2[states[length-2-i]][states[length-1-i]][1]+1)\n",
    "        reward*=gamma\n"
   ]
  },
  {
   "cell_type": "code",
   "execution_count": 158,
   "metadata": {},
   "outputs": [],
   "source": [
    "for i in range(100000000):\n",
    "    game()"
   ]
  },
  {
   "cell_type": "code",
   "execution_count": 90,
   "metadata": {},
   "outputs": [],
   "source": [
    "def not_practice_game():\n",
    "    global mdp1, mdp2\n",
    "    current_state=\"B\"*n+\".\"*((n)*(n-2))+\"W\"*n\n",
    "    reward=0\n",
    "    while True:\n",
    "        if mdp1.get(current_state) is None:\n",
    "            result=find_possible_positions(current_state, 1)\n",
    "            if len(result)==0:\n",
    "                mdp1[current_state]={}\n",
    "                reward=0\n",
    "                break\n",
    "            mdp1[current_state]={possible_state: (0,1) for possible_state in result}\n",
    "        if len(mdp1[current_state]) == 0:\n",
    "            break\n",
    "        current_state=list(mdp1[current_state].keys())[np.argmax([v[0] for v in mdp1[current_state].values()])]\n",
    "        for i in range(n):\n",
    "            if current_state[i]==\"W\":\n",
    "                reward=100\n",
    "                break\n",
    "        if reward!=0:\n",
    "            break\n",
    "        if mdp2.get(current_state) is None:\n",
    "            result=find_possible_positions(current_state, 2)\n",
    "            if len(result)==0:\n",
    "                mdp2[current_state]={}\n",
    "                reward=0\n",
    "                break\n",
    "            mdp2[current_state]={possible_state: (0,1) for possible_state in result}\n",
    "        if len(mdp2[current_state]) == 0:\n",
    "            break\n",
    "        current_state=list(mdp2[current_state].keys())[np.argmax([v[0] for v in mdp2[current_state].values()])]\n",
    "        for i in range(n*n-n, n*n):\n",
    "            if current_state[i]==\"B\":\n",
    "                reward=-100\n",
    "                break\n",
    "        if reward!=0:\n",
    "            break\n",
    "    return reward"
   ]
  },
  {
   "cell_type": "code",
   "execution_count": 94,
   "metadata": {},
   "outputs": [],
   "source": [
    "optimal_white_mdp={}"
   ]
  },
  {
   "cell_type": "code",
   "execution_count": 105,
   "metadata": {},
   "outputs": [],
   "source": [
    "def optimal_play_by_white():\n",
    "    global mdp1, mdp2, optimal_white_mdp\n",
    "    current_state=\"B\"*n+\".\"*((n)*(n-2))+\"W\"*n\n",
    "    reward=0\n",
    "    while True:\n",
    "        if optimal_white_mdp.get(current_state) is None:\n",
    "            if len(mdp1.get(current_state))==0:\n",
    "                optimal_white_mdp[current_state]={}\n",
    "                reward=0\n",
    "                break\n",
    "            optimal_white_mdp[current_state]=list(mdp1[current_state].keys())[np.argmax([v[0] for v in mdp1[current_state].values()])]\n",
    "        if len(mdp1[current_state]) == 0:\n",
    "            break\n",
    "        current_state=optimal_white_mdp[current_state]\n",
    "        for i in range(n):\n",
    "            if current_state[i]==\"W\":\n",
    "                reward=100\n",
    "                break\n",
    "        if reward!=0:\n",
    "            break\n",
    "        if mdp2.get(current_state) is None:\n",
    "            result=find_possible_positions(current_state, 2)\n",
    "            if len(result)==0:\n",
    "                mdp2[current_state]={}\n",
    "                reward=0\n",
    "                break\n",
    "            mdp2[current_state]={possible_state: (0,1) for possible_state in result}\n",
    "        if len(mdp2[current_state]) == 0:\n",
    "            break\n",
    "        current_state=np.random.choice(list(mdp2[current_state].keys()))\n",
    "        for i in range(n*n-n, n*n):\n",
    "            if current_state[i]==\"B\":\n",
    "                reward=-100\n",
    "                break\n",
    "        if reward!=0:\n",
    "            break\n",
    "    return reward"
   ]
  },
  {
   "cell_type": "code",
   "execution_count": 128,
   "metadata": {},
   "outputs": [],
   "source": [
    "for i in range(10000000):\n",
    "    optimal_play_by_white()"
   ]
  },
  {
   "cell_type": "code",
   "execution_count": 108,
   "metadata": {},
   "outputs": [],
   "source": [
    "optimal_black_mdp={}"
   ]
  },
  {
   "cell_type": "code",
   "execution_count": 109,
   "metadata": {},
   "outputs": [],
   "source": [
    "def optimal_play_by_black():\n",
    "    global mdp1, mdp2, optimal_black_mdp\n",
    "    current_state=\"B\"*n+\".\"*((n)*(n-2))+\"W\"*n\n",
    "    reward=0\n",
    "    while True:\n",
    "        if mdp1.get(current_state) is None:\n",
    "            result=find_possible_positions(current_state, 1)\n",
    "            if len(result)==0:\n",
    "                mdp1[current_state]={}\n",
    "                reward=0\n",
    "                break\n",
    "            mdp1[current_state]={possible_state: (0,1) for possible_state in result}\n",
    "        if len(mdp1[current_state]) == 0:\n",
    "            break\n",
    "        current_state=np.random.choice(list(mdp1[current_state].keys()))\n",
    "        for i in range(n):\n",
    "            if current_state[i]==\"W\":\n",
    "                reward=100\n",
    "                break\n",
    "        if reward!=0:\n",
    "            break\n",
    "        if optimal_black_mdp.get(current_state) is None:\n",
    "            if len(mdp2.get(current_state))==0:\n",
    "                optimal_black_mdp[current_state]={}\n",
    "                reward=0\n",
    "                break\n",
    "            optimal_black_mdp[current_state]=list(mdp2[current_state].keys())[np.argmax([v[0] for v in mdp2[current_state].values()])]\n",
    "        if len(mdp2[current_state]) == 0:\n",
    "            break\n",
    "        current_state=optimal_black_mdp[current_state]\n",
    "        for i in range(n*n-n, n*n):\n",
    "            if current_state[i]==\"B\":\n",
    "                reward=-100\n",
    "                break\n",
    "        if reward!=0:\n",
    "            break\n",
    "    return reward"
   ]
  },
  {
   "cell_type": "code",
   "execution_count": 130,
   "metadata": {},
   "outputs": [
    {
     "ename": "KeyboardInterrupt",
     "evalue": "",
     "output_type": "error",
     "traceback": [
      "\u001b[0;31m---------------------------------------------------------------------------\u001b[0m",
      "\u001b[0;31mKeyboardInterrupt\u001b[0m                         Traceback (most recent call last)",
      "Cell \u001b[0;32mIn[130], line 2\u001b[0m\n\u001b[1;32m      1\u001b[0m \u001b[38;5;28;01mfor\u001b[39;00m i \u001b[38;5;129;01min\u001b[39;00m \u001b[38;5;28mrange\u001b[39m(\u001b[38;5;241m100000000\u001b[39m):\n\u001b[0;32m----> 2\u001b[0m     \u001b[43moptimal_play_by_black\u001b[49m\u001b[43m(\u001b[49m\u001b[43m)\u001b[49m\n",
      "Cell \u001b[0;32mIn[109], line 28\u001b[0m, in \u001b[0;36moptimal_play_by_black\u001b[0;34m()\u001b[0m\n\u001b[1;32m     26\u001b[0m         \u001b[38;5;28;01mbreak\u001b[39;00m\n\u001b[1;32m     27\u001b[0m     optimal_black_mdp[current_state]\u001b[38;5;241m=\u001b[39m\u001b[38;5;28mlist\u001b[39m(mdp2[current_state]\u001b[38;5;241m.\u001b[39mkeys())[np\u001b[38;5;241m.\u001b[39margmax([v[\u001b[38;5;241m0\u001b[39m] \u001b[38;5;28;01mfor\u001b[39;00m v \u001b[38;5;129;01min\u001b[39;00m mdp2[current_state]\u001b[38;5;241m.\u001b[39mvalues()])]\n\u001b[0;32m---> 28\u001b[0m \u001b[38;5;28;01mif\u001b[39;00m \u001b[38;5;28;43mlen\u001b[39;49m\u001b[43m(\u001b[49m\u001b[43mmdp2\u001b[49m\u001b[43m[\u001b[49m\u001b[43mcurrent_state\u001b[49m\u001b[43m]\u001b[49m\u001b[43m)\u001b[49m \u001b[38;5;241m==\u001b[39m \u001b[38;5;241m0\u001b[39m:\n\u001b[1;32m     29\u001b[0m     \u001b[38;5;28;01mbreak\u001b[39;00m\n\u001b[1;32m     30\u001b[0m current_state\u001b[38;5;241m=\u001b[39moptimal_black_mdp[current_state]\n",
      "\u001b[0;31mKeyboardInterrupt\u001b[0m: "
     ]
    }
   ],
   "source": [
    "for i in range(100000000):\n",
    "    optimal_play_by_black()"
   ]
  },
  {
   "cell_type": "code",
   "execution_count": 159,
   "metadata": {},
   "outputs": [
    {
     "data": {
      "text/plain": [
       "5717"
      ]
     },
     "execution_count": 159,
     "metadata": {},
     "output_type": "execute_result"
    }
   ],
   "source": [
    "len(mdp1)"
   ]
  },
  {
   "cell_type": "code",
   "execution_count": 114,
   "metadata": {},
   "outputs": [],
   "source": [
    "import json\n",
    "with open(\"optimal_white_mdp.json\", \"w\") as f:\n",
    "    json.dump(optimal_white_mdp, f, indent=4)"
   ]
  },
  {
   "cell_type": "code",
   "execution_count": 132,
   "metadata": {},
   "outputs": [],
   "source": [
    "with open(\"optimal_black_mdp_longer.json\", \"w\") as f:\n",
    "    json.dump(optimal_black_mdp, f, indent=4)"
   ]
  },
  {
   "cell_type": "code",
   "execution_count": 116,
   "metadata": {},
   "outputs": [
    {
     "data": {
      "text/plain": [
       "3501"
      ]
     },
     "execution_count": 116,
     "metadata": {},
     "output_type": "execute_result"
    }
   ],
   "source": [
    "len(mdp1)"
   ]
  },
  {
   "cell_type": "code",
   "execution_count": 117,
   "metadata": {},
   "outputs": [
    {
     "data": {
      "text/plain": [
       "3010"
      ]
     },
     "execution_count": 117,
     "metadata": {},
     "output_type": "execute_result"
    }
   ],
   "source": [
    "len(mdp2)"
   ]
  },
  {
   "cell_type": "code",
   "execution_count": 124,
   "metadata": {},
   "outputs": [
    {
     "data": {
      "text/plain": [
       "5652"
      ]
     },
     "execution_count": 124,
     "metadata": {},
     "output_type": "execute_result"
    }
   ],
   "source": [
    "len(mdp1)"
   ]
  },
  {
   "cell_type": "code",
   "execution_count": 125,
   "metadata": {},
   "outputs": [
    {
     "data": {
      "text/plain": [
       "5286"
      ]
     },
     "execution_count": 125,
     "metadata": {},
     "output_type": "execute_result"
    }
   ],
   "source": [
    "len(mdp2)"
   ]
  },
  {
   "cell_type": "code",
   "execution_count": 160,
   "metadata": {},
   "outputs": [
    {
     "data": {
      "text/plain": [
       "5717"
      ]
     },
     "execution_count": 160,
     "metadata": {},
     "output_type": "execute_result"
    }
   ],
   "source": [
    "len(mdp1)"
   ]
  },
  {
   "cell_type": "code",
   "execution_count": 161,
   "metadata": {},
   "outputs": [
    {
     "data": {
      "text/plain": [
       "5337"
      ]
     },
     "execution_count": 161,
     "metadata": {},
     "output_type": "execute_result"
    }
   ],
   "source": [
    "len(mdp2)"
   ]
  },
  {
   "cell_type": "code",
   "execution_count": 236,
   "metadata": {},
   "outputs": [],
   "source": [
    "mdp1_5={}\n",
    "mdp2_5={}"
   ]
  },
  {
   "cell_type": "code",
   "execution_count": 237,
   "metadata": {},
   "outputs": [],
   "source": [
    "rewards=[]\n",
    "def n_game(n=5, epsilon=0.05, gamma=0.9):\n",
    "    global mdp1_5, mdp2_5, rewards\n",
    "    current_state=\"B\"*n+\".\"*((n)*(n-2))+\"W\"*n\n",
    "    states=[current_state]\n",
    "    over=False\n",
    "    reward=0\n",
    "    while not over:\n",
    "        if mdp1_5.get(current_state) is None:\n",
    "            result=find_possible_positions(current_state, 1, n=n)\n",
    "            if len(result)==0:\n",
    "                mdp1_5[current_state]={}\n",
    "                reward=0\n",
    "                break\n",
    "            mdp1_5[current_state]={possible_state: (0,1) for possible_state in result}\n",
    "        if len(mdp1_5[current_state]) == 0:\n",
    "            break\n",
    "        if random() < epsilon:\n",
    "            current_state=np.random.choice(list(mdp1_5[current_state].keys()))\n",
    "        else:\n",
    "            current_state=list(mdp1_5[current_state].keys())[np.argmax([v[0] for v in mdp1_5[current_state].values()])]\n",
    "        states.append(current_state)\n",
    "        for i in range(n):\n",
    "            if current_state[i]==\"W\":\n",
    "                reward=100\n",
    "                break\n",
    "        if reward!=0:\n",
    "            break\n",
    "        if mdp2_5.get(current_state) is None:\n",
    "            result=find_possible_positions(current_state, 2, n=n)\n",
    "            if len(result)==0:\n",
    "                mdp2_5[current_state]={}\n",
    "                reward=0\n",
    "                break\n",
    "            mdp2_5[current_state]={possible_state: (0,1) for possible_state in result}\n",
    "        if len(mdp2_5[current_state]) == 0:\n",
    "            break\n",
    "        if random() < epsilon:\n",
    "            current_state=np.random.choice(list(mdp2_5[current_state].keys()))\n",
    "        else:\n",
    "            current_state=list(mdp2_5[current_state].keys())[np.argmax([v[0] for v in mdp2_5[current_state].values()])]\n",
    "        states.append(current_state)\n",
    "        for i in range(n*n-n, n*n):\n",
    "            if current_state[i]==\"B\":\n",
    "                reward=-100\n",
    "                break\n",
    "        if reward!=0:\n",
    "            break\n",
    "    rewards.append(reward)\n",
    "    if (len(rewards))>100:\n",
    "        rewards=rewards[-100:]\n",
    "    length=len(states)\n",
    "    for i in range(length-1):\n",
    "        if length%2==i%2:\n",
    "            mdp1_5[states[length-2-i]][states[length-1-i]]=((mdp1_5[states[length-2-i]][states[length-i-1]][0]*mdp1_5[states[length-2-i]][states[length-1-i]][1]+reward)/(mdp1_5[states[length-2-i]][states[length-i-1]][1]+1), mdp1_5[states[length-2-i]][states[length-1-i]][1]+1)\n",
    "        else:\n",
    "            mdp2_5[states[length-2-i]][states[length-1-i]]=((mdp2_5[states[length-2-i]][states[length-i-1]][0]*mdp2_5[states[length-2-i]][states[length-1-i]][1]-reward)/(mdp2_5[states[length-2-i]][states[length-i-1]][1]+1), mdp2_5[states[length-2-i]][states[length-1-i]][1]+1)\n",
    "        reward*=gamma\n"
   ]
  },
  {
   "cell_type": "code",
   "execution_count": 241,
   "metadata": {},
   "outputs": [
    {
     "ename": "KeyboardInterrupt",
     "evalue": "",
     "output_type": "error",
     "traceback": [
      "\u001b[0;31m---------------------------------------------------------------------------\u001b[0m",
      "\u001b[0;31mAttributeError\u001b[0m                            Traceback (most recent call last)",
      "File \u001b[0;32m~/.local/lib/python3.10/site-packages/numpy/core/fromnumeric.py:77\u001b[0m, in \u001b[0;36m_wrapreduction\u001b[0;34m(obj, ufunc, method, axis, dtype, out, **kwargs)\u001b[0m\n\u001b[1;32m     76\u001b[0m \u001b[38;5;28;01mtry\u001b[39;00m:\n\u001b[0;32m---> 77\u001b[0m     reduction \u001b[38;5;241m=\u001b[39m \u001b[38;5;28;43mgetattr\u001b[39;49m\u001b[43m(\u001b[49m\u001b[43mobj\u001b[49m\u001b[43m,\u001b[49m\u001b[43m \u001b[49m\u001b[43mmethod\u001b[49m\u001b[43m)\u001b[49m\n\u001b[1;32m     78\u001b[0m \u001b[38;5;28;01mexcept\u001b[39;00m \u001b[38;5;167;01mAttributeError\u001b[39;00m:\n",
      "\u001b[0;31mAttributeError\u001b[0m: 'tuple' object has no attribute 'prod'",
      "\nDuring handling of the above exception, another exception occurred:\n",
      "\u001b[0;31mKeyboardInterrupt\u001b[0m                         Traceback (most recent call last)",
      "Cell \u001b[0;32mIn[241], line 2\u001b[0m\n\u001b[1;32m      1\u001b[0m \u001b[38;5;28;01mfor\u001b[39;00m i \u001b[38;5;129;01min\u001b[39;00m \u001b[38;5;28mrange\u001b[39m(\u001b[38;5;241m1000000000\u001b[39m):\n\u001b[0;32m----> 2\u001b[0m     \u001b[43mn_game\u001b[49m\u001b[43m(\u001b[49m\u001b[43m)\u001b[49m\n",
      "Cell \u001b[0;32mIn[237], line 19\u001b[0m, in \u001b[0;36mn_game\u001b[0;34m(n, epsilon, gamma)\u001b[0m\n\u001b[1;32m     17\u001b[0m     \u001b[38;5;28;01mbreak\u001b[39;00m\n\u001b[1;32m     18\u001b[0m \u001b[38;5;28;01mif\u001b[39;00m random() \u001b[38;5;241m<\u001b[39m epsilon:\n\u001b[0;32m---> 19\u001b[0m     current_state\u001b[38;5;241m=\u001b[39m\u001b[43mnp\u001b[49m\u001b[38;5;241;43m.\u001b[39;49m\u001b[43mrandom\u001b[49m\u001b[38;5;241;43m.\u001b[39;49m\u001b[43mchoice\u001b[49m\u001b[43m(\u001b[49m\u001b[38;5;28;43mlist\u001b[39;49m\u001b[43m(\u001b[49m\u001b[43mmdp1_5\u001b[49m\u001b[43m[\u001b[49m\u001b[43mcurrent_state\u001b[49m\u001b[43m]\u001b[49m\u001b[38;5;241;43m.\u001b[39;49m\u001b[43mkeys\u001b[49m\u001b[43m(\u001b[49m\u001b[43m)\u001b[49m\u001b[43m)\u001b[49m\u001b[43m)\u001b[49m\n\u001b[1;32m     20\u001b[0m \u001b[38;5;28;01melse\u001b[39;00m:\n\u001b[1;32m     21\u001b[0m     current_state\u001b[38;5;241m=\u001b[39m\u001b[38;5;28mlist\u001b[39m(mdp1_5[current_state]\u001b[38;5;241m.\u001b[39mkeys())[np\u001b[38;5;241m.\u001b[39margmax([v[\u001b[38;5;241m0\u001b[39m] \u001b[38;5;28;01mfor\u001b[39;00m v \u001b[38;5;129;01min\u001b[39;00m mdp1_5[current_state]\u001b[38;5;241m.\u001b[39mvalues()])]\n",
      "File \u001b[0;32mmtrand.pyx:997\u001b[0m, in \u001b[0;36mnumpy.random.mtrand.RandomState.choice\u001b[0;34m()\u001b[0m\n",
      "File \u001b[0;32mmtrand.pyx:781\u001b[0m, in \u001b[0;36mnumpy.random.mtrand.RandomState.randint\u001b[0;34m()\u001b[0m\n",
      "File \u001b[0;32m_bounded_integers.pyx:1315\u001b[0m, in \u001b[0;36mnumpy.random._bounded_integers._rand_int64\u001b[0;34m()\u001b[0m\n",
      "File \u001b[0;32m~/.local/lib/python3.10/site-packages/numpy/core/fromnumeric.py:3100\u001b[0m, in \u001b[0;36mprod\u001b[0;34m(a, axis, dtype, out, keepdims, initial, where)\u001b[0m\n\u001b[1;32m   2979\u001b[0m \u001b[38;5;129m@array_function_dispatch\u001b[39m(_prod_dispatcher)\n\u001b[1;32m   2980\u001b[0m \u001b[38;5;28;01mdef\u001b[39;00m \u001b[38;5;21mprod\u001b[39m(a, axis\u001b[38;5;241m=\u001b[39m\u001b[38;5;28;01mNone\u001b[39;00m, dtype\u001b[38;5;241m=\u001b[39m\u001b[38;5;28;01mNone\u001b[39;00m, out\u001b[38;5;241m=\u001b[39m\u001b[38;5;28;01mNone\u001b[39;00m, keepdims\u001b[38;5;241m=\u001b[39mnp\u001b[38;5;241m.\u001b[39m_NoValue,\n\u001b[1;32m   2981\u001b[0m          initial\u001b[38;5;241m=\u001b[39mnp\u001b[38;5;241m.\u001b[39m_NoValue, where\u001b[38;5;241m=\u001b[39mnp\u001b[38;5;241m.\u001b[39m_NoValue):\n\u001b[1;32m   2982\u001b[0m \u001b[38;5;250m    \u001b[39m\u001b[38;5;124;03m\"\"\"\u001b[39;00m\n\u001b[1;32m   2983\u001b[0m \u001b[38;5;124;03m    Return the product of array elements over a given axis.\u001b[39;00m\n\u001b[1;32m   2984\u001b[0m \n\u001b[0;32m   (...)\u001b[0m\n\u001b[1;32m   3098\u001b[0m \u001b[38;5;124;03m    10\u001b[39;00m\n\u001b[1;32m   3099\u001b[0m \u001b[38;5;124;03m    \"\"\"\u001b[39;00m\n\u001b[0;32m-> 3100\u001b[0m     \u001b[38;5;28;01mreturn\u001b[39;00m \u001b[43m_wrapreduction\u001b[49m\u001b[43m(\u001b[49m\u001b[43ma\u001b[49m\u001b[43m,\u001b[49m\u001b[43m \u001b[49m\u001b[43mnp\u001b[49m\u001b[38;5;241;43m.\u001b[39;49m\u001b[43mmultiply\u001b[49m\u001b[43m,\u001b[49m\u001b[43m \u001b[49m\u001b[38;5;124;43m'\u001b[39;49m\u001b[38;5;124;43mprod\u001b[39;49m\u001b[38;5;124;43m'\u001b[39;49m\u001b[43m,\u001b[49m\u001b[43m \u001b[49m\u001b[43maxis\u001b[49m\u001b[43m,\u001b[49m\u001b[43m \u001b[49m\u001b[43mdtype\u001b[49m\u001b[43m,\u001b[49m\u001b[43m \u001b[49m\u001b[43mout\u001b[49m\u001b[43m,\u001b[49m\n\u001b[1;32m   3101\u001b[0m \u001b[43m                          \u001b[49m\u001b[43mkeepdims\u001b[49m\u001b[38;5;241;43m=\u001b[39;49m\u001b[43mkeepdims\u001b[49m\u001b[43m,\u001b[49m\u001b[43m \u001b[49m\u001b[43minitial\u001b[49m\u001b[38;5;241;43m=\u001b[39;49m\u001b[43minitial\u001b[49m\u001b[43m,\u001b[49m\u001b[43m \u001b[49m\u001b[43mwhere\u001b[49m\u001b[38;5;241;43m=\u001b[39;49m\u001b[43mwhere\u001b[49m\u001b[43m)\u001b[49m\n",
      "File \u001b[0;32m~/.local/lib/python3.10/site-packages/numpy/core/fromnumeric.py:77\u001b[0m, in \u001b[0;36m_wrapreduction\u001b[0;34m(obj, ufunc, method, axis, dtype, out, **kwargs)\u001b[0m\n\u001b[1;32m     75\u001b[0m \u001b[38;5;28;01mif\u001b[39;00m \u001b[38;5;28mtype\u001b[39m(obj) \u001b[38;5;129;01mis\u001b[39;00m \u001b[38;5;129;01mnot\u001b[39;00m mu\u001b[38;5;241m.\u001b[39mndarray:\n\u001b[1;32m     76\u001b[0m     \u001b[38;5;28;01mtry\u001b[39;00m:\n\u001b[0;32m---> 77\u001b[0m         reduction \u001b[38;5;241m=\u001b[39m \u001b[38;5;28;43mgetattr\u001b[39;49m\u001b[43m(\u001b[49m\u001b[43mobj\u001b[49m\u001b[43m,\u001b[49m\u001b[43m \u001b[49m\u001b[43mmethod\u001b[49m\u001b[43m)\u001b[49m\n\u001b[1;32m     78\u001b[0m     \u001b[38;5;28;01mexcept\u001b[39;00m \u001b[38;5;167;01mAttributeError\u001b[39;00m:\n\u001b[1;32m     79\u001b[0m         \u001b[38;5;28;01mpass\u001b[39;00m\n",
      "\u001b[0;31mKeyboardInterrupt\u001b[0m: "
     ]
    }
   ],
   "source": [
    "for i in range(1000000000):\n",
    "    n_game()"
   ]
  },
  {
   "cell_type": "code",
   "execution_count": 242,
   "metadata": {},
   "outputs": [
    {
     "name": "stdout",
     "output_type": "stream",
     "text": [
      "[0, 0, 0, 0, 0, 0, -100, 0, 100, 100, 0, 100, 0, 100, 100, 0, -100, -100, -100, 0, 0, 0, 0, 0, 0, 100, -100, 0, 0, 0, -100, 0, 100, 0, -100, 0, 0, -100, -100, -100, 0, 0, 0, -100, 0, -100, 0, 0, 0, 0, 0, 0, 100, 0, 0, 0, -100, 0, 100, 0, 0, 0, 0, 0, -100, 0, 0, 100, 0, 100, 0, 0, -100, 0, -100, 0, -100, 100, 100, 0, 100, 100, 0, -100, 0, 0, 100, 0, 0, 100, 0, -100, -100, -100, 100, 100, -100, 0, 0, 0]\n"
     ]
    }
   ],
   "source": [
    "print(rewards[-100:])"
   ]
  },
  {
   "cell_type": "code",
   "execution_count": 230,
   "metadata": {},
   "outputs": [],
   "source": [
    "def n_not_practice_game(n=5):\n",
    "    global mdp1_5, mdp2_5\n",
    "    current_state=\"B\"*n+\".\"*((n)*(n-2))+\"W\"*n\n",
    "    reward=0\n",
    "    while True:\n",
    "        if mdp1_5.get(current_state) is None:\n",
    "            result=find_possible_positions(current_state, 1, n=5)\n",
    "            if len(result)==0:\n",
    "                mdp1_5[current_state]={}\n",
    "                reward=0\n",
    "                break\n",
    "            mdp1_5[current_state]={possible_state: (0,1) for possible_state in result}\n",
    "        if len(mdp1_5[current_state]) == 0:\n",
    "            break\n",
    "        current_state=list(mdp1_5[current_state].keys())[np.argmax([v[0] for v in mdp1_5[current_state].values()])]\n",
    "        print(current_state)\n",
    "        for i in range(n):\n",
    "            if current_state[i]==\"W\":\n",
    "                reward=100\n",
    "                break\n",
    "        if reward!=0:\n",
    "            break\n",
    "        if mdp2_5.get(current_state) is None:\n",
    "            result=find_possible_positions(current_state, 2, n=5)\n",
    "            if len(result)==0:\n",
    "                mdp2_5[current_state]={}\n",
    "                reward=0\n",
    "                break\n",
    "            mdp2_5[current_state]={possible_state: (0,1) for possible_state in result}\n",
    "        if len(mdp2_5[current_state]) == 0:\n",
    "            break\n",
    "        current_state=list(mdp2_5[current_state].keys())[np.argmax([v[0] for v in mdp2_5[current_state].values()])]\n",
    "        print(current_state)\n",
    "        for i in range(n*n-n, n*n):\n",
    "            if current_state[i]==\"B\":\n",
    "                reward=-100\n",
    "                break\n",
    "        if reward!=0:\n",
    "            break\n",
    "    print(reward)"
   ]
  },
  {
   "cell_type": "code",
   "execution_count": 243,
   "metadata": {},
   "outputs": [
    {
     "name": "stdout",
     "output_type": "stream",
     "text": [
      "BBBBB............W..WW.WW\n",
      "BB.BB..B.........W..WW.WW\n",
      "BB.BB..B....W.......WW.WW\n",
      "BB..B..BB...W.......WW.WW\n",
      "BB..B..BW...........WW.WW\n",
      "BB.....BB...........WW.WW\n",
      "BB.....BB..........WWW.W.\n",
      "B.....BBB..........WWW.W.\n",
      "B.....BBB.........WWWW...\n",
      "B.....B.B...B.....WWWW...\n",
      "B.....B.B...W......WWW...\n",
      "B.......B...B......WWW...\n",
      "B.......B...B..W...W.W...\n",
      ".....B..B...B..W...W.W...\n",
      ".....B..B.W.B......W.W...\n",
      ".....B....W.BB.....W.W...\n",
      ".....B....W.BW.......W...\n",
      ".....B....W..W...B...W...\n",
      ".....B....W..W...W.......\n",
      "0\n"
     ]
    }
   ],
   "source": [
    "for i in range(1):\n",
    "    n_not_practice_game()"
   ]
  },
  {
   "cell_type": "code",
   "execution_count": 247,
   "metadata": {},
   "outputs": [
    {
     "ename": "JSONDecodeError",
     "evalue": "Expecting value: line 1 column 1 (char 0)",
     "output_type": "error",
     "traceback": [
      "\u001b[0;31m---------------------------------------------------------------------------\u001b[0m",
      "\u001b[0;31mJSONDecodeError\u001b[0m                           Traceback (most recent call last)",
      "Cell \u001b[0;32mIn[247], line 2\u001b[0m\n\u001b[1;32m      1\u001b[0m \u001b[38;5;28;01mwith\u001b[39;00m \u001b[38;5;28mopen\u001b[39m(\u001b[38;5;124m\"\u001b[39m\u001b[38;5;124mmdp1_5.json\u001b[39m\u001b[38;5;124m\"\u001b[39m, \u001b[38;5;124m\"\u001b[39m\u001b[38;5;124mr\u001b[39m\u001b[38;5;124m\"\u001b[39m) \u001b[38;5;28;01mas\u001b[39;00m f:\n\u001b[0;32m----> 2\u001b[0m     mdp1_orig\u001b[38;5;241m=\u001b[39m\u001b[43mjson\u001b[49m\u001b[38;5;241;43m.\u001b[39;49m\u001b[43mload\u001b[49m\u001b[43m(\u001b[49m\u001b[43mf\u001b[49m\u001b[43m)\u001b[49m\n",
      "File \u001b[0;32m/usr/lib/python3.10/json/__init__.py:293\u001b[0m, in \u001b[0;36mload\u001b[0;34m(fp, cls, object_hook, parse_float, parse_int, parse_constant, object_pairs_hook, **kw)\u001b[0m\n\u001b[1;32m    274\u001b[0m \u001b[38;5;28;01mdef\u001b[39;00m \u001b[38;5;21mload\u001b[39m(fp, \u001b[38;5;241m*\u001b[39m, \u001b[38;5;28mcls\u001b[39m\u001b[38;5;241m=\u001b[39m\u001b[38;5;28;01mNone\u001b[39;00m, object_hook\u001b[38;5;241m=\u001b[39m\u001b[38;5;28;01mNone\u001b[39;00m, parse_float\u001b[38;5;241m=\u001b[39m\u001b[38;5;28;01mNone\u001b[39;00m,\n\u001b[1;32m    275\u001b[0m         parse_int\u001b[38;5;241m=\u001b[39m\u001b[38;5;28;01mNone\u001b[39;00m, parse_constant\u001b[38;5;241m=\u001b[39m\u001b[38;5;28;01mNone\u001b[39;00m, object_pairs_hook\u001b[38;5;241m=\u001b[39m\u001b[38;5;28;01mNone\u001b[39;00m, \u001b[38;5;241m*\u001b[39m\u001b[38;5;241m*\u001b[39mkw):\n\u001b[1;32m    276\u001b[0m \u001b[38;5;250m    \u001b[39m\u001b[38;5;124;03m\"\"\"Deserialize ``fp`` (a ``.read()``-supporting file-like object containing\u001b[39;00m\n\u001b[1;32m    277\u001b[0m \u001b[38;5;124;03m    a JSON document) to a Python object.\u001b[39;00m\n\u001b[1;32m    278\u001b[0m \n\u001b[0;32m   (...)\u001b[0m\n\u001b[1;32m    291\u001b[0m \u001b[38;5;124;03m    kwarg; otherwise ``JSONDecoder`` is used.\u001b[39;00m\n\u001b[1;32m    292\u001b[0m \u001b[38;5;124;03m    \"\"\"\u001b[39;00m\n\u001b[0;32m--> 293\u001b[0m     \u001b[38;5;28;01mreturn\u001b[39;00m \u001b[43mloads\u001b[49m\u001b[43m(\u001b[49m\u001b[43mfp\u001b[49m\u001b[38;5;241;43m.\u001b[39;49m\u001b[43mread\u001b[49m\u001b[43m(\u001b[49m\u001b[43m)\u001b[49m\u001b[43m,\u001b[49m\n\u001b[1;32m    294\u001b[0m \u001b[43m        \u001b[49m\u001b[38;5;28;43mcls\u001b[39;49m\u001b[38;5;241;43m=\u001b[39;49m\u001b[38;5;28;43mcls\u001b[39;49m\u001b[43m,\u001b[49m\u001b[43m \u001b[49m\u001b[43mobject_hook\u001b[49m\u001b[38;5;241;43m=\u001b[39;49m\u001b[43mobject_hook\u001b[49m\u001b[43m,\u001b[49m\n\u001b[1;32m    295\u001b[0m \u001b[43m        \u001b[49m\u001b[43mparse_float\u001b[49m\u001b[38;5;241;43m=\u001b[39;49m\u001b[43mparse_float\u001b[49m\u001b[43m,\u001b[49m\u001b[43m \u001b[49m\u001b[43mparse_int\u001b[49m\u001b[38;5;241;43m=\u001b[39;49m\u001b[43mparse_int\u001b[49m\u001b[43m,\u001b[49m\n\u001b[1;32m    296\u001b[0m \u001b[43m        \u001b[49m\u001b[43mparse_constant\u001b[49m\u001b[38;5;241;43m=\u001b[39;49m\u001b[43mparse_constant\u001b[49m\u001b[43m,\u001b[49m\u001b[43m \u001b[49m\u001b[43mobject_pairs_hook\u001b[49m\u001b[38;5;241;43m=\u001b[39;49m\u001b[43mobject_pairs_hook\u001b[49m\u001b[43m,\u001b[49m\u001b[43m \u001b[49m\u001b[38;5;241;43m*\u001b[39;49m\u001b[38;5;241;43m*\u001b[39;49m\u001b[43mkw\u001b[49m\u001b[43m)\u001b[49m\n",
      "File \u001b[0;32m/usr/lib/python3.10/json/__init__.py:346\u001b[0m, in \u001b[0;36mloads\u001b[0;34m(s, cls, object_hook, parse_float, parse_int, parse_constant, object_pairs_hook, **kw)\u001b[0m\n\u001b[1;32m    341\u001b[0m     s \u001b[38;5;241m=\u001b[39m s\u001b[38;5;241m.\u001b[39mdecode(detect_encoding(s), \u001b[38;5;124m'\u001b[39m\u001b[38;5;124msurrogatepass\u001b[39m\u001b[38;5;124m'\u001b[39m)\n\u001b[1;32m    343\u001b[0m \u001b[38;5;28;01mif\u001b[39;00m (\u001b[38;5;28mcls\u001b[39m \u001b[38;5;129;01mis\u001b[39;00m \u001b[38;5;28;01mNone\u001b[39;00m \u001b[38;5;129;01mand\u001b[39;00m object_hook \u001b[38;5;129;01mis\u001b[39;00m \u001b[38;5;28;01mNone\u001b[39;00m \u001b[38;5;129;01mand\u001b[39;00m\n\u001b[1;32m    344\u001b[0m         parse_int \u001b[38;5;129;01mis\u001b[39;00m \u001b[38;5;28;01mNone\u001b[39;00m \u001b[38;5;129;01mand\u001b[39;00m parse_float \u001b[38;5;129;01mis\u001b[39;00m \u001b[38;5;28;01mNone\u001b[39;00m \u001b[38;5;129;01mand\u001b[39;00m\n\u001b[1;32m    345\u001b[0m         parse_constant \u001b[38;5;129;01mis\u001b[39;00m \u001b[38;5;28;01mNone\u001b[39;00m \u001b[38;5;129;01mand\u001b[39;00m object_pairs_hook \u001b[38;5;129;01mis\u001b[39;00m \u001b[38;5;28;01mNone\u001b[39;00m \u001b[38;5;129;01mand\u001b[39;00m \u001b[38;5;129;01mnot\u001b[39;00m kw):\n\u001b[0;32m--> 346\u001b[0m     \u001b[38;5;28;01mreturn\u001b[39;00m \u001b[43m_default_decoder\u001b[49m\u001b[38;5;241;43m.\u001b[39;49m\u001b[43mdecode\u001b[49m\u001b[43m(\u001b[49m\u001b[43ms\u001b[49m\u001b[43m)\u001b[49m\n\u001b[1;32m    347\u001b[0m \u001b[38;5;28;01mif\u001b[39;00m \u001b[38;5;28mcls\u001b[39m \u001b[38;5;129;01mis\u001b[39;00m \u001b[38;5;28;01mNone\u001b[39;00m:\n\u001b[1;32m    348\u001b[0m     \u001b[38;5;28mcls\u001b[39m \u001b[38;5;241m=\u001b[39m JSONDecoder\n",
      "File \u001b[0;32m/usr/lib/python3.10/json/decoder.py:337\u001b[0m, in \u001b[0;36mJSONDecoder.decode\u001b[0;34m(self, s, _w)\u001b[0m\n\u001b[1;32m    332\u001b[0m \u001b[38;5;28;01mdef\u001b[39;00m \u001b[38;5;21mdecode\u001b[39m(\u001b[38;5;28mself\u001b[39m, s, _w\u001b[38;5;241m=\u001b[39mWHITESPACE\u001b[38;5;241m.\u001b[39mmatch):\n\u001b[1;32m    333\u001b[0m \u001b[38;5;250m    \u001b[39m\u001b[38;5;124;03m\"\"\"Return the Python representation of ``s`` (a ``str`` instance\u001b[39;00m\n\u001b[1;32m    334\u001b[0m \u001b[38;5;124;03m    containing a JSON document).\u001b[39;00m\n\u001b[1;32m    335\u001b[0m \n\u001b[1;32m    336\u001b[0m \u001b[38;5;124;03m    \"\"\"\u001b[39;00m\n\u001b[0;32m--> 337\u001b[0m     obj, end \u001b[38;5;241m=\u001b[39m \u001b[38;5;28;43mself\u001b[39;49m\u001b[38;5;241;43m.\u001b[39;49m\u001b[43mraw_decode\u001b[49m\u001b[43m(\u001b[49m\u001b[43ms\u001b[49m\u001b[43m,\u001b[49m\u001b[43m \u001b[49m\u001b[43midx\u001b[49m\u001b[38;5;241;43m=\u001b[39;49m\u001b[43m_w\u001b[49m\u001b[43m(\u001b[49m\u001b[43ms\u001b[49m\u001b[43m,\u001b[49m\u001b[43m \u001b[49m\u001b[38;5;241;43m0\u001b[39;49m\u001b[43m)\u001b[49m\u001b[38;5;241;43m.\u001b[39;49m\u001b[43mend\u001b[49m\u001b[43m(\u001b[49m\u001b[43m)\u001b[49m\u001b[43m)\u001b[49m\n\u001b[1;32m    338\u001b[0m     end \u001b[38;5;241m=\u001b[39m _w(s, end)\u001b[38;5;241m.\u001b[39mend()\n\u001b[1;32m    339\u001b[0m     \u001b[38;5;28;01mif\u001b[39;00m end \u001b[38;5;241m!=\u001b[39m \u001b[38;5;28mlen\u001b[39m(s):\n",
      "File \u001b[0;32m/usr/lib/python3.10/json/decoder.py:355\u001b[0m, in \u001b[0;36mJSONDecoder.raw_decode\u001b[0;34m(self, s, idx)\u001b[0m\n\u001b[1;32m    353\u001b[0m     obj, end \u001b[38;5;241m=\u001b[39m \u001b[38;5;28mself\u001b[39m\u001b[38;5;241m.\u001b[39mscan_once(s, idx)\n\u001b[1;32m    354\u001b[0m \u001b[38;5;28;01mexcept\u001b[39;00m \u001b[38;5;167;01mStopIteration\u001b[39;00m \u001b[38;5;28;01mas\u001b[39;00m err:\n\u001b[0;32m--> 355\u001b[0m     \u001b[38;5;28;01mraise\u001b[39;00m JSONDecodeError(\u001b[38;5;124m\"\u001b[39m\u001b[38;5;124mExpecting value\u001b[39m\u001b[38;5;124m\"\u001b[39m, s, err\u001b[38;5;241m.\u001b[39mvalue) \u001b[38;5;28;01mfrom\u001b[39;00m \u001b[38;5;28;01mNone\u001b[39;00m\n\u001b[1;32m    356\u001b[0m \u001b[38;5;28;01mreturn\u001b[39;00m obj, end\n",
      "\u001b[0;31mJSONDecodeError\u001b[0m: Expecting value: line 1 column 1 (char 0)"
     ]
    }
   ],
   "source": [
    "with open(\"mdp1_5.json\", \"r\") as f:\n",
    "    mdp1_orig=json.load(f)"
   ]
  },
  {
   "cell_type": "code",
   "execution_count": 233,
   "metadata": {},
   "outputs": [
    {
     "data": {
      "text/plain": [
       "{'.BBBBB...........W..WW.WW': (-4.455019315474058, 60118478),\n",
       " 'B.BBB.B..........W..WW.WW': (-4.455019362039358, 201677352),\n",
       " 'BB.BB..B.........W..WW.WW': (-4.76834447134536, 13507488),\n",
       " 'BBB.B...B........W..WW.WW': (-4.455021295934208, 15412175),\n",
       " 'BBBB.....B.......W..WW.WW': (-4.455019465750489, 15169551)}"
      ]
     },
     "execution_count": 233,
     "metadata": {},
     "output_type": "execute_result"
    }
   ],
   "source": [
    "mdp2_5['BBBBB............W..WW.WW']"
   ]
  },
  {
   "cell_type": "code",
   "execution_count": 245,
   "metadata": {},
   "outputs": [
    {
     "data": {
      "text/plain": [
       "303304"
      ]
     },
     "execution_count": 245,
     "metadata": {},
     "output_type": "execute_result"
    }
   ],
   "source": [
    "len(mdp1_5)"
   ]
  },
  {
   "cell_type": "code",
   "execution_count": 223,
   "metadata": {},
   "outputs": [],
   "source": [
    "for key, value in mdp1_5.items():\n",
    "    for k, v in value.items():\n",
    "        if v[0]>20:\n",
    "            print(key, k, v)\n",
    "    break"
   ]
  },
  {
   "cell_type": "code",
   "execution_count": 244,
   "metadata": {},
   "outputs": [
    {
     "data": {
      "text/plain": [
       "254855"
      ]
     },
     "execution_count": 244,
     "metadata": {},
     "output_type": "execute_result"
    }
   ],
   "source": [
    "len(mdp2_5)"
   ]
  },
  {
   "cell_type": "code",
   "execution_count": 1,
   "metadata": {},
   "outputs": [
    {
     "ename": "NameError",
     "evalue": "name 'json' is not defined",
     "output_type": "error",
     "traceback": [
      "\u001b[0;31m---------------------------------------------------------------------------\u001b[0m",
      "\u001b[0;31mNameError\u001b[0m                                 Traceback (most recent call last)",
      "Cell \u001b[0;32mIn[1], line 2\u001b[0m\n\u001b[1;32m      1\u001b[0m \u001b[38;5;28;01mwith\u001b[39;00m \u001b[38;5;28mopen\u001b[39m(\u001b[38;5;124m\"\u001b[39m\u001b[38;5;124mmdp1_5.json\u001b[39m\u001b[38;5;124m\"\u001b[39m, \u001b[38;5;124m\"\u001b[39m\u001b[38;5;124mw\u001b[39m\u001b[38;5;124m\"\u001b[39m) \u001b[38;5;28;01mas\u001b[39;00m f:\n\u001b[0;32m----> 2\u001b[0m     \u001b[43mjson\u001b[49m\u001b[38;5;241m.\u001b[39mdump(mdp1_5, f, indent\u001b[38;5;241m=\u001b[39m\u001b[38;5;241m4\u001b[39m)\n",
      "\u001b[0;31mNameError\u001b[0m: name 'json' is not defined"
     ]
    }
   ],
   "source": [
    "with open(\"mdp1_5.json\", \"w\") as f:\n",
    "    json.dump(mdp1_5, f, indent=4)"
   ]
  },
  {
   "cell_type": "code",
   "execution_count": 235,
   "metadata": {},
   "outputs": [],
   "source": [
    "with open(\"mdp2_5.json\", \"w\") as f:\n",
    "    json.dump(mdp2_5, f, indent=4)"
   ]
  },
  {
   "cell_type": "code",
   "execution_count": null,
   "metadata": {},
   "outputs": [],
   "source": []
  }
 ],
 "metadata": {
  "kernelspec": {
   "display_name": "Python 3",
   "language": "python",
   "name": "python3"
  },
  "language_info": {
   "codemirror_mode": {
    "name": "ipython",
    "version": 3
   },
   "file_extension": ".py",
   "mimetype": "text/x-python",
   "name": "python",
   "nbconvert_exporter": "python",
   "pygments_lexer": "ipython3",
   "version": "3.10.12"
  }
 },
 "nbformat": 4,
 "nbformat_minor": 2
}
