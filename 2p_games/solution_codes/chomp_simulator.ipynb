{
 "cells": [
  {
   "cell_type": "code",
   "execution_count": 1,
   "metadata": {},
   "outputs": [
    {
     "name": "stdout",
     "output_type": "stream",
     "text": [
      "pygame 2.5.2 (SDL 2.28.2, Python 3.10.12)\n",
      "Hello from the pygame community. https://www.pygame.org/contribute.html\n"
     ]
    },
    {
     "ename": "SystemExit",
     "evalue": "",
     "output_type": "error",
     "traceback": [
      "An exception has occurred, use %tb to see the full traceback.\n",
      "\u001b[0;31mSystemExit\u001b[0m\n"
     ]
    },
    {
     "name": "stderr",
     "output_type": "stream",
     "text": [
      "/home/aditya/.local/lib/python3.10/site-packages/IPython/core/interactiveshell.py:3534: UserWarning: To exit: use 'exit', 'quit', or Ctrl-D.\n",
      "  warn(\"To exit: use 'exit', 'quit', or Ctrl-D.\", stacklevel=1)\n"
     ]
    }
   ],
   "source": [
    "import pygame\n",
    "import sys\n",
    "\n",
    "pygame.init()\n",
    "\n",
    "width = 800\n",
    "height = 600\n",
    "screen = pygame.display.set_mode((width, height))\n",
    "pygame.display.set_caption('Chomp Game')\n",
    "\n",
    "\n",
    "rows = 6\n",
    "cols = 8\n",
    "square_size = 50\n",
    "padding = 10\n",
    "\n",
    "black = (0, 0, 0)\n",
    "brown = (139, 69, 19)\n",
    "white = (255, 255, 255)\n",
    "\n",
    "\n",
    "font = pygame.font.Font(None, 36)\n",
    "\n",
    "\n",
    "game_over = False\n",
    "turn = 0  \n",
    "\n",
    "\n",
    "chocolate = [[True for _ in range(cols)] for _ in range(rows)]\n",
    "\n",
    "def draw_chocolate():\n",
    "    for row in range(rows):\n",
    "        for col in range(cols):\n",
    "            if chocolate[row][col]:\n",
    "                pygame.draw.rect(screen, brown,\n",
    "                                 (col * (square_size + padding) + padding,\n",
    "                                  row * (square_size + padding) + padding,\n",
    "                                  square_size, square_size))\n",
    "            else:\n",
    "                pygame.draw.rect(screen, white,\n",
    "                                 (col * (square_size + padding) + padding,\n",
    "                                  row * (square_size + padding) + padding,\n",
    "                                  square_size, square_size))\n",
    "\n",
    "def chomp(row, col):\n",
    "    global game_over\n",
    "    for r in range(row, rows):\n",
    "        for c in range(col, cols):\n",
    "            chocolate[r][c] = False\n",
    "    if row == 0 and col == 0:\n",
    "        game_over = True\n",
    "\n",
    "def display_winner():\n",
    "    loser = \"Player 1\" if turn == 1 else \"Player 2\"\n",
    "    text = font.render(f'{loser} is a fucking loser !', True, white, brown)\n",
    "    text_rect = text.get_rect(center=(width // 2, height - 50))\n",
    "    screen.blit(text, text_rect)\n",
    "\n",
    "def display_turn():\n",
    "    player_turn = \"Player 1's Turn\" if turn == 0 else \"Player 2's Turn\"\n",
    "    text = font.render(player_turn, True, white)\n",
    "    text_rect = text.get_rect(center=(width // 2, 500))\n",
    "    screen.blit(text, text_rect)\n",
    "\n",
    "def main_game_loop():\n",
    "    running = True\n",
    "    global turn\n",
    "    while running:\n",
    "        for event in pygame.event.get():\n",
    "            if event.type == pygame.QUIT:\n",
    "                pygame.quit()\n",
    "                sys.exit()\n",
    "            elif event.type == pygame.MOUSEBUTTONDOWN and not game_over:\n",
    "                x, y = event.pos\n",
    "                col = x // (square_size + padding)\n",
    "                row = y // (square_size + padding)\n",
    "                if chocolate[row][col]: \n",
    "                    chomp(row, col)\n",
    "                    turn = 1 - turn\n",
    "\n",
    "        screen.fill(black) \n",
    "        draw_chocolate() \n",
    "        display_turn()   \n",
    "        if game_over:\n",
    "            display_winner()\n",
    "\n",
    "        pygame.display.flip()  \n",
    "\n",
    "if __name__ == \"__main__\":\n",
    "    main_game_loop()\n"
   ]
  },
  {
   "cell_type": "code",
   "execution_count": null,
   "metadata": {},
   "outputs": [],
   "source": []
  }
 ],
 "metadata": {
  "kernelspec": {
   "display_name": "Python 3",
   "language": "python",
   "name": "python3"
  },
  "language_info": {
   "codemirror_mode": {
    "name": "ipython",
    "version": 3
   },
   "file_extension": ".py",
   "mimetype": "text/x-python",
   "name": "python",
   "nbconvert_exporter": "python",
   "pygments_lexer": "ipython3",
   "version": "3.10.12"
  }
 },
 "nbformat": 4,
 "nbformat_minor": 2
}
