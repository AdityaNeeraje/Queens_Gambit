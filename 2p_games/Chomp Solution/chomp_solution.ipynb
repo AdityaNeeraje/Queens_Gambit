{
 "cells": [
  {
   "cell_type": "code",
   "execution_count": 2,
   "metadata": {},
   "outputs": [],
   "source": [
    "n=1\n",
    "m=3\n",
    "mdp={'.'*(n*m): -2}"
   ]
  },
  {
   "cell_type": "code",
   "execution_count": 3,
   "metadata": {},
   "outputs": [],
   "source": [
    "import sys\n",
    "sys.setrecursionlimit(10**8)"
   ]
  },
  {
   "cell_type": "code",
   "execution_count": 4,
   "metadata": {},
   "outputs": [],
   "source": [
    "def generate_states(state, n, m):\n",
    "    results=[]\n",
    "    for i in range(len(state)):\n",
    "        if state[i]=='.':\n",
    "            new_state=list(state)\n",
    "            for j in range(i%n, n):\n",
    "                for k in range(i//n, m):\n",
    "                    if new_state[j+k*n]=='.':\n",
    "                        new_state[j+k*n]='X'\n",
    "                    else:\n",
    "                        break\n",
    "            results.append(''.join(new_state))\n",
    "    return results\n"
   ]
  },
  {
   "cell_type": "code",
   "execution_count": null,
   "metadata": {},
   "outputs": [],
   "source": [
    "winning_moves={}"
   ]
  },
  {
   "cell_type": "code",
   "execution_count": 35,
   "metadata": {},
   "outputs": [],
   "source": [
    "def game(state, n, m):\n",
    "    global mdp, winning_moves\n",
    "    # print(state)\n",
    "    if mdp.get(state) is None:\n",
    "        mdp[state] = -1\n",
    "    elif mdp[state] != -1:\n",
    "        return mdp[state]\n",
    "    substates=generate_states(state, n, m)\n",
    "    if len(substates)==0:\n",
    "        mdp[state]=1\n",
    "        return 1\n",
    "    for substate in substates:\n",
    "        if game(substate, n, m)==0:\n",
    "            winning_moves[state]=substate\n",
    "            mdp[state]=1\n",
    "            return 1\n",
    "    mdp[state]=0\n",
    "    return 0"
   ]
  },
  {
   "cell_type": "code",
   "execution_count": 38,
   "metadata": {},
   "outputs": [
    {
     "data": {
      "text/plain": [
       "1"
      ]
     },
     "execution_count": 38,
     "metadata": {},
     "output_type": "execute_result"
    }
   ],
   "source": [
    "n_k=7\n",
    "m_k=4\n",
    "mdp={}\n",
    "winning_moves={}\n",
    "game('.'*(n_k*m_k), n_k, m_k)"
   ]
  },
  {
   "cell_type": "code",
   "execution_count": 39,
   "metadata": {},
   "outputs": [
    {
     "data": {
      "text/plain": [
       "174"
      ]
     },
     "execution_count": 39,
     "metadata": {},
     "output_type": "execute_result"
    }
   ],
   "source": [
    "len(winning_moves)"
   ]
  },
  {
   "cell_type": "code",
   "execution_count": 40,
   "metadata": {},
   "outputs": [],
   "source": [
    "import json\n",
    "with open('4x7_winning_moves.json', 'w') as f:\n",
    "    json.dump(winning_moves, f, indent=4)"
   ]
  },
  {
   "cell_type": "code",
   "execution_count": 37,
   "metadata": {},
   "outputs": [
    {
     "data": {
      "text/plain": [
       "54"
      ]
     },
     "execution_count": 37,
     "metadata": {},
     "output_type": "execute_result"
    }
   ],
   "source": [
    "len(winning_moves)"
   ]
  },
  {
   "cell_type": "code",
   "execution_count": null,
   "metadata": {},
   "outputs": [],
   "source": []
  }
 ],
 "metadata": {
  "kernelspec": {
   "display_name": "Python 3",
   "language": "python",
   "name": "python3"
  },
  "language_info": {
   "codemirror_mode": {
    "name": "ipython",
    "version": 3
   },
   "file_extension": ".py",
   "mimetype": "text/x-python",
   "name": "python",
   "nbconvert_exporter": "python",
   "pygments_lexer": "ipython3",
   "version": "3.10.12"
  }
 },
 "nbformat": 4,
 "nbformat_minor": 2
}
